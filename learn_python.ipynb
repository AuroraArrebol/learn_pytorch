{
 "cells": [
  {
   "cell_type": "code",
   "execution_count": 1,
   "id": "8e7b7883",
   "metadata": {},
   "outputs": [
    {
     "name": "stdout",
     "output_type": "stream",
     "text": [
      "列表:\n",
      "1.[1, 2, 3, 4, 5, 6, 7, 8, 9, 10, 11, 12, 13, 14, 15, 16, 17, 18, 19, 20, 21, 22, 23, 24, 25, 26, 27, 28, 29, 30, 31, 32, 33, 34, 35, 36, 37, 38, 39, 40, 41, 42, 43, 44, 45, 46, 47, 48, 49, 50, 51, 52, 53, 54, 55, 56, 57, 58, 59, 60, 61, 62, 63, 64, 65, 66, 67, 68, 69, 70, 71, 72, 73, 74, 75, 76, 77, 78, 79, 80, 81, 82, 83, 84, 85, 86, 87, 88, 89, 90, 91, 92, 93, 94, 95, 96, 97, 98, 99, 100]\n"
     ]
    }
   ],
   "source": [
    "print(\"列表:\")\n",
    "num=list(range(1,101))\n",
    "print(f\"1.{num}\")"
   ]
  },
  {
   "cell_type": "code",
   "execution_count": 2,
   "id": "45ba85a3",
   "metadata": {},
   "outputs": [
    {
     "name": "stdout",
     "output_type": "stream",
     "text": [
      "2.100\n",
      "3.1\n",
      "4.5050\n",
      "4.100\n"
     ]
    }
   ],
   "source": [
    "#列表函数\n",
    "print(f\"2.{max(num)}\")\n",
    "print(f\"3.{min(num)}\")\n",
    "print(f\"4.{sum(num)}\")\n",
    "print(f\"4.{len(num)}\")"
   ]
  },
  {
   "cell_type": "code",
   "execution_count": 3,
   "id": "617edb1e",
   "metadata": {},
   "outputs": [
    {
     "name": "stdout",
     "output_type": "stream",
     "text": [
      "5.[1, 4, 9, 16, 25, 36, 49, 64, 81, 100, 121, 144, 169, 196, 225, 256, 289, 324, 361, 400, 441, 484, 529, 576, 625, 676, 729, 784, 841, 900, 961, 1024, 1089, 1156, 1225, 1296, 1369, 1444, 1521, 1600, 1681, 1764, 1849, 1936, 2025, 2116, 2209, 2304, 2401, 2500, 2601, 2704, 2809, 2916, 3025, 3136, 3249, 3364, 3481, 3600, 3721, 3844, 3969, 4096, 4225, 4356, 4489, 4624, 4761, 4900, 5041, 5184, 5329, 5476, 5625, 5776, 5929, 6084, 6241, 6400, 6561, 6724, 6889, 7056, 7225, 7396, 7569, 7744, 7921, 8100, 8281, 8464, 8649, 8836, 9025, 9216, 9409, 9604, 9801, 10000]\n"
     ]
    }
   ],
   "source": [
    "#列表解析\n",
    "squ=[a**2 for a in num]\n",
    "print(f\"5.{squ}\")"
   ]
  },
  {
   "cell_type": "code",
   "execution_count": 4,
   "id": "35d0dcaa",
   "metadata": {},
   "outputs": [
    {
     "name": "stdout",
     "output_type": "stream",
     "text": [
      "6.[1, 4, 9, 16, 25, 36, 49, 64, 81, 100]\n",
      "7.[1, 9, 25, 49, 81]\n",
      "8.[9604, 9801, 10000]\n",
      "9.[10000, 9604, 9216, 8836, 8464, 8100, 7744, 7396, 7056, 6724, 6400, 6084, 5776, 5476, 5184, 4900, 4624, 4356, 4096, 3844, 3600, 3364, 3136, 2916, 2704, 2500, 2304, 2116, 1936, 1764, 1600, 1444, 1296, 1156, 1024, 900, 784, 676, 576, 484, 400, 324, 256, 196, 144, 100, 64, 36, 16, 4]\n"
     ]
    }
   ],
   "source": [
    "#列表切片\n",
    "print(f\"6.{squ[0:10]}\")\n",
    "print(f\"7.{squ[0:10:2]}\")\n",
    "print(f\"8.{squ[-3:]}\")\n",
    "print(f\"9.{squ[::-2]}\")"
   ]
  },
  {
   "cell_type": "code",
   "execution_count": 5,
   "id": "f858380f",
   "metadata": {},
   "outputs": [
    {
     "name": "stdout",
     "output_type": "stream",
     "text": [
      "y\n",
      "n\n"
     ]
    }
   ],
   "source": [
    "#in关键字的使用\n",
    "if 1 in num:\n",
    "    print('y')\n",
    "if 102 not in num:\n",
    "    print('n')"
   ]
  },
  {
   "cell_type": "code",
   "execution_count": 6,
   "id": "a733167e",
   "metadata": {
    "scrolled": true
   },
   "outputs": [
    {
     "name": "stdout",
     "output_type": "stream",
     "text": [
      "alien:{'X': 1, 'Y': 2, 'Z': 3}\n",
      "alien:{'X': 1, 'Z': 3}\n",
      "X:1\n",
      "\n"
     ]
    }
   ],
   "source": [
    "#字典\n",
    "alien={}\n",
    "alien[\"X\"]=1            #添加键值对\n",
    "alien[\"Y\"]=2            #添加键值对\n",
    "alien[\"Z\"]=3            #添加键值对\n",
    "print(f\"alien:{alien}\")\n",
    "del alien['Y']          #删除键值对\n",
    "print(f\"alien:{alien}\")\n",
    "print(f\"X:{alien['X']}\\n\")"
   ]
  },
  {
   "cell_type": "code",
   "execution_count": 7,
   "id": "6223b323",
   "metadata": {},
   "outputs": [
    {
     "name": "stdout",
     "output_type": "stream",
     "text": [
      "favorite:{'Tom': 'python', 'Michelle': 'C++'}\n"
     ]
    }
   ],
   "source": [
    "#可以直接建立字典\n",
    "favorite={\"Tom\":\"python\",\"Michelle\":\"C++\"}\n",
    "print(f\"favorite:{favorite}\")"
   ]
  },
  {
   "cell_type": "code",
   "execution_count": 8,
   "id": "2510850f",
   "metadata": {},
   "outputs": [
    {
     "name": "stdout",
     "output_type": "stream",
     "text": [
      "No point value given\n"
     ]
    }
   ],
   "source": [
    "#get函数，如果字典中有键，则返回值；无此键则返回第二个参数\n",
    "point=alien.get('point','No point value given')\n",
    "print(point)"
   ]
  },
  {
   "cell_type": "code",
   "execution_count": 9,
   "id": "32c932f5",
   "metadata": {},
   "outputs": [
    {
     "name": "stdout",
     "output_type": "stream",
     "text": [
      "100\n"
     ]
    }
   ],
   "source": [
    "alien['point']=100\n",
    "point=alien.get('point','No point value given')\n",
    "print(point)"
   ]
  },
  {
   "cell_type": "code",
   "execution_count": 10,
   "id": "b130da4a",
   "metadata": {},
   "outputs": [
    {
     "name": "stdout",
     "output_type": "stream",
     "text": [
      "X:1\n",
      "Z:3\n",
      "point:100\n"
     ]
    }
   ],
   "source": [
    "#遍历字典（键值对）\n",
    "for i,j in alien.items():\n",
    "    print(f\"{i}:{j}\")"
   ]
  },
  {
   "cell_type": "code",
   "execution_count": 11,
   "id": "e7408203",
   "metadata": {},
   "outputs": [
    {
     "name": "stdout",
     "output_type": "stream",
     "text": [
      "X\n",
      "Z\n",
      "point\n"
     ]
    }
   ],
   "source": [
    "#遍历字典（键）\n",
    "for i in alien.keys():\n",
    "    print(f\"{i}\")"
   ]
  },
  {
   "cell_type": "code",
   "execution_count": 12,
   "id": "c199842b",
   "metadata": {},
   "outputs": [
    {
     "name": "stdout",
     "output_type": "stream",
     "text": [
      "1\n",
      "3\n",
      "100\n"
     ]
    }
   ],
   "source": [
    "#遍历字典（值）\n",
    "for i in alien.values():\n",
    "    print(f\"{i}\")"
   ]
  },
  {
   "cell_type": "code",
   "execution_count": 13,
   "id": "f0ac9242",
   "metadata": {},
   "outputs": [
    {
     "name": "stdout",
     "output_type": "stream",
     "text": [
      "{'X': 1, 'Y': 2}\n",
      "{'X': 6, 'Y': 8}\n",
      "{'X': 6, 'Y': 8}\n"
     ]
    }
   ],
   "source": [
    "#字典列表\n",
    "alien_0={\"X\":1,'Y':2}\n",
    "alien_1={\"X\":6,'Y':8}\n",
    "alien_2={\"X\":4,'Y':3}\n",
    "aliens=[alien_0,alien_1,alien_1]\n",
    "for each in aliens:\n",
    "    print(each)"
   ]
  },
  {
   "cell_type": "code",
   "execution_count": 14,
   "id": "7f24e3f8",
   "metadata": {},
   "outputs": [
    {
     "name": "stdout",
     "output_type": "stream",
     "text": [
      "hello,TOM\n"
     ]
    }
   ],
   "source": [
    "def greet(name):\n",
    "    print(f\"hello,{name}\")\n",
    "greet('TOM')"
   ]
  },
  {
   "cell_type": "code",
   "execution_count": 17,
   "id": "e66bbfc2",
   "metadata": {},
   "outputs": [],
   "source": [
    "#面向对象\n",
    "class Car:\n",
    "    def __init__(self,name):\n",
    "         self.name=name;\n",
    "    def describe(self):\n",
    "        print(f\"It's a {self.name}\")\n",
    "\n",
    "class ElectroCar(Car):\n",
    "    def __init__(self,name):\n",
    "        super().__init__(name)         #继承父类的init函数\n",
    "        self.battery=10\n",
    "    def describe_battery(self):\n",
    "        print(f\"It's battery size is {self.battery}\")"
   ]
  },
  {
   "cell_type": "code",
   "execution_count": 18,
   "id": "03e95f41",
   "metadata": {},
   "outputs": [
    {
     "name": "stdout",
     "output_type": "stream",
     "text": [
      "It's a Tesla\n",
      "It's battery size is 10\n"
     ]
    }
   ],
   "source": [
    "mycar=ElectroCar('Tesla')\n",
    "mycar.describe()\n",
    "mycar.describe_battery()"
   ]
  },
  {
   "cell_type": "code",
   "execution_count": null,
   "id": "a03c58f5",
   "metadata": {},
   "outputs": [],
   "source": []
  }
 ],
 "metadata": {
  "kernelspec": {
   "display_name": "Python [conda env:pytorch] *",
   "language": "python",
   "name": "conda-env-pytorch-py"
  },
  "language_info": {
   "codemirror_mode": {
    "name": "ipython",
    "version": 3
   },
   "file_extension": ".py",
   "mimetype": "text/x-python",
   "name": "python",
   "nbconvert_exporter": "python",
   "pygments_lexer": "ipython3",
   "version": "3.9.12"
  }
 },
 "nbformat": 4,
 "nbformat_minor": 5
}
